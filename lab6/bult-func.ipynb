{
 "cells": [
  {
   "cell_type": "code",
   "execution_count": 1,
   "metadata": {},
   "outputs": [
    {
     "name": "stdout",
     "output_type": "stream",
     "text": [
      "math.prod: 120\n",
      "reduce: 120\n"
     ]
    }
   ],
   "source": [
    "import math\n",
    "from functools import reduce\n",
    "import operator\n",
    "\n",
    "def multiply_list_math(numbers):\n",
    "    return math.prod(numbers)\n",
    "\n",
    "def multiply_list_reduce(numbers):\n",
    "    return reduce(operator.mul, numbers, 1)\n",
    "\n",
    "nums = [1, 2, 3, 4, 5]\n",
    "print(\"math.prod:\", multiply_list_math(nums))\n",
    "print(\"reduce:\", multiply_list_reduce(nums))\n"
   ]
  },
  {
   "cell_type": "code",
   "execution_count": 1,
   "metadata": {},
   "outputs": [
    {
     "name": "stdout",
     "output_type": "stream",
     "text": [
      "There are 4 upper and 7 lower latters\n"
     ]
    }
   ],
   "source": [
    "def count_case(s):\n",
    "    upper = sum((1 for i in s if i.isupper()))\n",
    "    lower = sum((1 for i in s if i.islower()))\n",
    "    return upper, lower\n",
    "\n",
    "test_text = \"Hello_Kbtu_PP2\"\n",
    "up, low = count_case(test_text)\n",
    "\n",
    "print(f\"There are {up} upper and {low} lower latters\")"
   ]
  },
  {
   "cell_type": "code",
   "execution_count": 4,
   "metadata": {},
   "outputs": [
    {
     "name": "stdout",
     "output_type": "stream",
     "text": [
      "True\n"
     ]
    }
   ],
   "source": [
    "def isPalindrome(s):\n",
    "    return s == s[::-1]\n",
    "\n",
    "word = \"radar\"\n",
    "print(isPalindrome(word))"
   ]
  },
  {
   "cell_type": "code",
   "execution_count": 5,
   "metadata": {},
   "outputs": [
    {
     "name": "stdout",
     "output_type": "stream",
     "text": [
      "Square root of 88 after 88 miliseconds is 9.38083151964686\n"
     ]
    }
   ],
   "source": [
    "import math\n",
    "import time\n",
    "\n",
    "def delayed_sqrt(number, delay_ms):\n",
    "    time.sleep(delay_ms / 1000)\n",
    "    return math.sqrt(number)\n",
    "\n",
    "num = int(input(\"Input num: \"))\n",
    "delay = int(input(\"Input ms: \"))\n",
    "\n",
    "print(f\"Square root of {num} after {delay} miliseconds is {delayed_sqrt(num, delay)}\")"
   ]
  },
  {
   "cell_type": "code",
   "execution_count": 6,
   "metadata": {},
   "outputs": [
    {
     "name": "stdout",
     "output_type": "stream",
     "text": [
      "Is all true? True\n"
     ]
    }
   ],
   "source": [
    "def all_true(tup):\n",
    "    return all(tup)\n",
    "\n",
    "t = (True, 0 + 3, \"g\", 42)\n",
    "print(f\"Is all true? {all_true(t)}\")"
   ]
  }
 ],
 "metadata": {
  "kernelspec": {
   "display_name": "Python 3",
   "language": "python",
   "name": "python3"
  },
  "language_info": {
   "codemirror_mode": {
    "name": "ipython",
    "version": 3
   },
   "file_extension": ".py",
   "mimetype": "text/x-python",
   "name": "python",
   "nbconvert_exporter": "python",
   "pygments_lexer": "ipython3",
   "version": "3.11.4"
  }
 },
 "nbformat": 4,
 "nbformat_minor": 2
}
