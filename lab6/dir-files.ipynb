{
 "cells": [
  {
   "cell_type": "code",
   "execution_count": 12,
   "metadata": {},
   "outputs": [
    {
     "name": "stdout",
     "output_type": "stream",
     "text": [
      "Directories: []\n",
      "Files: ['bult-func.ipynb', 'dir-files.ipynb', 'not_A_to_Z.txt', 'test.txt']\n",
      "All entries: ['bult-func.ipynb', 'dir-files.ipynb', 'not_A_to_Z.txt', 'test.txt']\n"
     ]
    }
   ],
   "source": [
    "import os\n",
    "\n",
    "def list_dir_files(path):\n",
    "    directories = [entry for entry in os.listdir(path) if os.path.isdir(os.path.join(path, entry))]\n",
    "    files = [entry for entry in os.listdir(path) if os.path.isfile(os.path.join(path, entry))]\n",
    "    all_entries = os.listdir(path)\n",
    "    return directories, files, all_entries\n",
    "\n",
    "path_input = r\"C:\\Users\\User\\Desktop\\lab6\"\n",
    "dirs, files, all_entries = list_dir_files(path_input)\n",
    "print(\"Directories:\", dirs)\n",
    "print(\"Files:\", files)\n",
    "print(\"All entries:\", all_entries)\n"
   ]
  },
  {
   "cell_type": "code",
   "execution_count": 13,
   "metadata": {},
   "outputs": [
    {
     "name": "stdout",
     "output_type": "stream",
     "text": [
      "Exists: True\n",
      "Readable: True\n",
      "Writable: True\n",
      "Executable: True\n"
     ]
    }
   ],
   "source": [
    "import os\n",
    "\n",
    "def check_access(path):\n",
    "    exists = os.path.exists(path)\n",
    "    readable = os.access(path, os.R_OK)\n",
    "    writable = os.access(path, os.W_OK)\n",
    "    executable = os.access(path, os.X_OK)\n",
    "    return exists, readable, writable, executable\n",
    "\n",
    "path_input =   r\"C:\\Users\\User\\Desktop\\lab6\"\n",
    "exists, readable, writable, executable = check_access(path_input)\n",
    "print(f\"Exists: {exists}\")\n",
    "print(f\"Readable: {readable}\")\n",
    "print(f\"Writable: {writable}\")\n",
    "print(f\"Executable: {executable}\")\n"
   ]
  },
  {
   "cell_type": "code",
   "execution_count": 20,
   "metadata": {},
   "outputs": [
    {
     "name": "stdout",
     "output_type": "stream",
     "text": [
      "Exists.\n",
      "File name: lab6\n",
      "Directory: C:\\Users\\User\\Desktop\n"
     ]
    }
   ],
   "source": [
    "import os\n",
    "\n",
    "def analyze_path(path):\n",
    "    if os.path.exists(path):\n",
    "        file_name = os.path.basename(path)\n",
    "        directory = os.path.dirname(path)\n",
    "        return True, file_name, directory\n",
    "    else:\n",
    "        return False, None, None\n",
    "\n",
    "path = r\"C:\\Users\\User\\Desktop\\lab6\"\n",
    "exists, file_name, directory = analyze_path(path)\n",
    "if exists:\n",
    "    print(\"Exists.\")\n",
    "    print(f\"File name: {file_name}\")\n",
    "    print(f\"Directory: {directory}\")\n",
    "else:\n",
    "    print(\"Not exists.\")\n"
   ]
  },
  {
   "cell_type": "code",
   "execution_count": 10,
   "metadata": {},
   "outputs": [
    {
     "name": "stdout",
     "output_type": "stream",
     "text": [
      "Count lines: 253\n"
     ]
    }
   ],
   "source": [
    "def count_lines(filename):\n",
    "    with open(filename, 'r') as f:\n",
    "        return sum(1 for line in f)\n",
    "\n",
    "filename = \"dir-files.ipynb\"\n",
    "print(\"Count lines:\", count_lines(filename))"
   ]
  },
  {
   "cell_type": "code",
   "execution_count": 32,
   "metadata": {},
   "outputs": [
    {
     "name": "stdout",
     "output_type": "stream",
     "text": [
      "List test.txt OK\n"
     ]
    }
   ],
   "source": [
    "def w_file(lst, filename):\n",
    "    with open(filename, 'w') as f:\n",
    "        for i in lst:\n",
    "            f.write(str(i) + \"\\n\")\n",
    "\n",
    "my_list = [\"apple\", \"banana\", \"cherry\"]\n",
    "filename = \"test.txt\"\n",
    "w_file(my_list, filename)\n",
    "print(f\"List {filename} OK\")"
   ]
  },
  {
   "cell_type": "code",
   "execution_count": 12,
   "metadata": {},
   "outputs": [
    {
     "name": "stdout",
     "output_type": "stream",
     "text": [
      "files created\n"
     ]
    }
   ],
   "source": [
    "names_of_files = [\"not_A_to_Z\", \"test\",\"ok\"]\n",
    "\n",
    "def create_alphabet_files(names_of_files):\n",
    "    for letter in names_of_files:\n",
    "        filename = f\"{letter}.txt\"\n",
    "        with open(filename, 'w') as f:\n",
    "            f.write(f\"This is file {filename}\\n\")\n",
    "    print(\"files created\")\n",
    "\n",
    "\n",
    "create_alphabet_files(names_of_files)\n"
   ]
  },
  {
   "cell_type": "code",
   "execution_count": 13,
   "metadata": {},
   "outputs": [
    {
     "name": "stdout",
     "output_type": "stream",
     "text": [
      "not_A_to_Z.txt to test.txt\n"
     ]
    }
   ],
   "source": [
    "def copy_file(src, dst):\n",
    "    with open(src, 'r') as f_src:\n",
    "        content = f_src.read()\n",
    "    with open(dst, 'w') as f_dst:\n",
    "        f_dst.write(content)\n",
    "    print(f\"{src} to {dst}\")\n",
    "\n",
    "source_file = 'not_A_to_Z.txt'\n",
    "destination_file = 'test.txt'\n",
    "copy_file(source_file, destination_file)\n"
   ]
  },
  {
   "cell_type": "code",
   "execution_count": 1,
   "metadata": {},
   "outputs": [
    {
     "name": "stdout",
     "output_type": "stream",
     "text": [
      "'C:\\Users\\User\\Desktop\\lab6\\test.txt' file deleted\n"
     ]
    }
   ],
   "source": [
    "import os\n",
    "\n",
    "def delete_file(path):\n",
    "    if os.path.exists(path) and os.access(path, os.W_OK):\n",
    "        os.remove(path)\n",
    "        print(f\"'{path}' file deleted\")\n",
    "    else:\n",
    "        print(\"error with file\")\n",
    "\n",
    "file_path = r'C:\\Users\\User\\Desktop\\lab6\\test.txt'\n",
    "delete_file(file_path)\n"
   ]
  }
 ],
 "metadata": {
  "kernelspec": {
   "display_name": "Python 3",
   "language": "python",
   "name": "python3"
  },
  "language_info": {
   "codemirror_mode": {
    "name": "ipython",
    "version": 3
   },
   "file_extension": ".py",
   "mimetype": "text/x-python",
   "name": "python",
   "nbconvert_exporter": "python",
   "pygments_lexer": "ipython3",
   "version": "3.11.4"
  }
 },
 "nbformat": 4,
 "nbformat_minor": 2
}
